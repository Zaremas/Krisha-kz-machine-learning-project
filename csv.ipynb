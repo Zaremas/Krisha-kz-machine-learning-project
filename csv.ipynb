{
  "nbformat": 4,
  "nbformat_minor": 0,
  "metadata": {
    "colab": {
      "provenance": []
    },
    "kernelspec": {
      "name": "python3",
      "display_name": "Python 3"
    },
    "language_info": {
      "name": "python"
    }
  },
  "cells": [
    {
      "cell_type": "code",
      "execution_count": 36,
      "metadata": {
        "id": "iHvsF7s2Hcyj"
      },
      "outputs": [],
      "source": [
        "import requests\n",
        "from bs4 import BeautifulSoup\n",
        "import csv\n",
        "import pandas as pd\n",
        "\n",
        "def get_links(url):\n",
        "    response = requests.get(url)\n",
        "    soup = BeautifulSoup(response.text, 'html.parser')\n",
        "\n",
        "    links = []\n",
        "    for a in soup.find_all('a', href=True):\n",
        "        if 'a/show' in a['href']:\n",
        "            links.append('https://krisha.kz' + a['href'])\n",
        "\n",
        "    return links\n",
        "\n",
        "index = {\n",
        "    \"Title\": 0,\n",
        "    \"Price\": 1,\n",
        "    \"Город\": 2,\n",
        "    \"Комнаты\": 3,\n",
        "    \"В залоге\": 4,\n",
        "    \"Тип дома\": 5,\n",
        "    \"Жилой комплекс\": 6,\n",
        "    \"Год постройки\": 7,\n",
        "    \"Этаж\": 8,\n",
        "    \"Площадь, м²\": 9,\n",
        "    \"Бывшее общежитие\": 10,\n",
        "    \"Состояние\": 11,\n",
        "    \"Телефон\": 12,\n",
        "    \"Интернет\": 13,\n",
        "    \"Санузел\": 14,\n",
        "    \"Балкон\": 15,\n",
        "    \"Балкон остеклён\": 16,\n",
        "    \"Дверь\": 17,\n",
        "    \"Парковка\": 18,\n",
        "    \"Квартира меблирована\": 19,\n",
        "    \"Пол\": 20,\n",
        "    \"Потолки\": 21,\n",
        "    \"Безопасность\": 22,\n",
        "    \"Разное\": 23,\n",
        "    \"Возможен обмен\": 24\n",
        "}\n",
        "\n",
        "def parse_page(url):\n",
        "    page = requests.get(url)\n",
        "    html = page.content\n",
        "    data = [None]*25\n",
        "    soup = BeautifulSoup(html, 'html.parser')\n",
        "    if soup.find('div',{'class':\"offer__parameters-mortgaged\"}):\n",
        "        data[index[\"В залоге\"]] = True\n",
        "    else:\n",
        "        data[index[\"В залоге\"]] = False\n",
        "\n",
        "    parameters = soup.find(\"div\", {\"class\":\"offer__parameters\"}).find_all(\"dl\")\n",
        "    for parameter in parameters:\n",
        "        attr = parameter.find('dt').text.strip()\n",
        "        if attr in index:\n",
        "            data[index[attr]] = parameter.find('dd').text\n",
        "    return data\n",
        "\n",
        "url = 'https://krisha.kz'\n",
        "links = get_links(url)\n",
        "\n",
        "rows = []\n",
        "for link in links:\n",
        "    row = parse_page(link)\n",
        "    rows.append(row)\n",
        "\n",
        "columns = [\n",
        "    \"Title\", \"Price\", \"Location\", \"Rooms\", \"Bail\", \"TypeOfBuilding\", \"ResidentialComplex\",\n",
        "    \"YearBuilt\", \"Floor\", \"Area\", \"PreviouslyDorm\", \"Conditions\", \"Phone\",\n",
        "    \"Internet\", \"Bathroom\", \"Balcony\", \"BalconyIsGlazed\", \"Door\", \"Parking\",\n",
        "    \"Furnished\", \"Flooring\", \"CeilingHeight\", \"Security\", \"Miscellaneous\",\"ExchangePossible\"\n",
        "]\n",
        "df = pd.DataFrame(rows, columns=columns)\n",
        "\n",
        "\n",
        "df.to_csv(\"krisha.csv\")\n"
      ]
    },
    {
      "cell_type": "code",
      "source": [],
      "metadata": {
        "id": "LynGXMk5T5hl"
      },
      "execution_count": null,
      "outputs": []
    }
  ]
}