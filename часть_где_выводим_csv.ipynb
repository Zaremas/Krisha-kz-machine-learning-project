{
  "nbformat": 4,
  "nbformat_minor": 0,
  "metadata": {
    "colab": {
      "provenance": []
    },
    "kernelspec": {
      "name": "python3",
      "display_name": "Python 3"
    },
    "language_info": {
      "name": "python"
    }
  },
  "cells": [
    {
      "cell_type": "code",
      "execution_count": 29,
      "metadata": {
        "id": "iHvsF7s2Hcyj"
      },
      "outputs": [],
      "source": [
        "import requests\n",
        "from bs4 import BeautifulSoup\n",
        "import csv\n",
        "\n",
        "def get_links(url):\n",
        "    response = requests.get(url)\n",
        "    soup = BeautifulSoup(response.text, 'html.parser')\n",
        "\n",
        "    links = []\n",
        "    for a in soup.find_all('a', href=True):\n",
        "        if 'a/show' in a['href']:\n",
        "            links.append('https://krisha.kz' + a['href'])\n",
        "\n",
        "    return links\n",
        "\n",
        "index = {\n",
        "    \"Title\": 0,\n",
        "    \"Price\": 1,\n",
        "    \"Город\": 2,\n",
        "    \"Комнаты\": 3,\n",
        "    \"В залоге\": 4,\n",
        "    \"Тип дома\": 5,\n",
        "    \"Жилой комплекс\": 6,\n",
        "    \"Год постройки\": 7,\n",
        "    \"Этаж\": 8,\n",
        "    \"Площадь, м²\": 9,\n",
        "    \"Бывшее общежитие\": 10,\n",
        "    \"Состояние\": 11,\n",
        "    \"Телефон\": 12,\n",
        "    \"Интернет\": 13,\n",
        "    \"Санузел\": 14,\n",
        "    \"Балкон\": 15,\n",
        "    \"Балкон остеклён\": 16,\n",
        "    \"Дверь\": 17,\n",
        "    \"Парковка\": 18,\n",
        "    \"Квартира меблирована\": 19,\n",
        "    \"Пол\": 20,\n",
        "    \"Потолки\": 21,\n",
        "    \"Безопасность\": 22,\n",
        "    \"Разное\": 23,\n",
        "    \"Возможен обмен\": 24\n",
        "}\n",
        "\n",
        "def parse_page(url):\n",
        "    page = requests.get(url)\n",
        "    html = page.content\n",
        "    data = [None]*25\n",
        "    soup = BeautifulSoup(html, 'html.parser')\n",
        "    if soup.find('div',{'class':\"offer__parameters-mortgaged\"}):\n",
        "        data[index[\"В залоге\"]] = True\n",
        "    else:\n",
        "        data[index[\"В залоге\"]] = False\n",
        "\n",
        "    parameters = soup.find(\"div\", {\"class\":\"offer__parameters\"}).find_all(\"dl\")\n",
        "    for parameter in parameters:\n",
        "        attr = parameter.find('dt').text.strip()\n",
        "        if attr in index:\n",
        "            data[index[attr]] = parameter.find('dd').text\n",
        "    return data\n",
        "\n",
        "url = 'https://krisha.kz'\n",
        "links = get_links(url)\n",
        "\n",
        "rows = []\n",
        "for link in links:\n",
        "    row = parse_page(link)\n",
        "    rows.append(row)\n",
        "\n",
        "with open('output.csv', 'w', newline='') as file:\n",
        "    writer = csv.writer(file)\n",
        "    writer.writerows(rows)"
      ]
    },
    {
      "cell_type": "code",
      "source": [],
      "metadata": {
        "id": "LynGXMk5T5hl"
      },
      "execution_count": null,
      "outputs": []
    },
    {
      "cell_type": "code",
      "source": [
        "for row in rows:\n",
        "    print(row)"
      ],
      "metadata": {
        "colab": {
          "base_uri": "https://localhost:8080/"
        },
        "id": "IAMRe07vOq7z",
        "outputId": "670259ba-5c2c-4a11-9244-0d244d2c1f75"
      },
      "execution_count": 30,
      "outputs": [
        {
          "output_type": "stream",
          "name": "stdout",
          "text": [
            "[None, None, None, None, False, None, None, None, None, None, 'нет', None, None, None, None, None, None, None, None, None, None, None, 'решетки на окнах', None, 'Не интересует']\n",
            "[None, None, None, None, False, None, None, None, None, None, 'нет', None, None, None, None, 'балкон', 'да', 'металлическая', None, 'без мебели', 'линолеум', '2.4 м', None, None, 'Возможен обмен']\n",
            "[None, None, None, None, False, None, None, None, None, None, 'нет', None, None, None, None, 'балкон', None, None, 'паркинг', 'полностью', 'ламинат', '2.7 м', 'домофон, видеонаблюдение', None, 'Не интересует']\n",
            "[None, None, None, None, False, None, None, None, None, None, None, None, None, None, None, None, None, None, 'своя', None, None, None, 'решетки на окнах, видеонаблюдение', None, None]\n",
            "[None, None, None, None, True, None, None, None, None, None, 'нет', None, None, None, None, None, None, None, None, 'полностью', None, '3.4 м', None, None, 'Не интересует']\n",
            "[None, None, None, None, False, None, None, None, None, None, None, None, None, None, None, None, None, None, None, None, None, None, None, None, None]\n",
            "[None, None, None, None, False, None, None, None, None, None, None, None, None, None, None, None, None, None, None, None, None, None, None, None, 'Нет']\n",
            "[None, None, None, None, True, None, None, None, None, None, 'нет', None, None, None, 'совмещенный', 'балкон', None, None, None, 'частично', None, '2.7 м', 'видеонаблюдение, домофон', None, 'Не интересует']\n",
            "[None, None, None, None, False, None, None, None, None, None, 'нет', None, 'нет', 'проводной', None, 'балкон', 'да', None, 'паркинг', 'частично', 'линолеум', '2.5 м', 'домофон', None, 'Не интересует']\n",
            "[None, None, None, None, False, None, None, None, None, None, 'нет', None, None, None, None, None, None, None, None, None, None, None, None, None, 'Не интересует']\n",
            "[None, None, None, None, False, None, None, None, None, None, None, None, None, None, None, None, None, None, None, None, None, None, None, None, None]\n",
            "[None, None, None, None, False, None, None, None, None, None, None, None, None, None, None, None, None, None, None, None, None, None, None, None, 'Да']\n",
            "[None, None, None, None, False, None, None, None, None, None, 'нет', None, None, None, None, None, None, 'металлическая', 'паркинг', None, None, '3 м', 'охрана, видеодомофон', None, None]\n",
            "[None, None, None, None, False, None, None, None, None, None, 'нет', None, 'есть возможность подключения', None, None, None, None, 'металлическая', 'рядом охраняемая стоянка', None, 'ламинат', '2 м', 'домофон, видеонаблюдение', None, 'Не интересует']\n",
            "[None, None, None, None, False, None, None, None, None, None, None, None, None, None, None, None, None, None, None, None, None, None, None, None, 'Нет']\n",
            "[None, None, None, None, False, None, None, None, None, None, None, None, None, None, None, None, None, None, None, None, None, None, None, None, 'Нет']\n",
            "[None, None, None, None, True, None, None, None, None, None, 'нет', None, None, None, 'совмещенный', 'лоджия', None, 'бронированная', 'паркинг', 'полностью', 'ламинат', '2.8 м', None, None, 'Не интересует']\n",
            "[None, None, None, None, False, None, None, None, None, None, 'нет', None, 'есть возможность подключения', 'оптика', None, 'несколько балконов или лоджий', 'да', 'металлическая', 'рядом охраняемая стоянка', 'частично', 'линолеум', '2.8 м', 'домофон', None, 'Не интересует']\n",
            "[None, None, None, None, False, None, None, None, None, None, None, None, None, None, 'совмещенный', None, None, None, 'рядом охраняемая стоянка', 'полностью', None, None, 'домофон', None, None]\n",
            "[None, None, None, None, False, None, None, None, None, None, None, None, None, None, None, None, None, None, None, None, None, None, 'рядом есть парковка, видеодомофон, домофон', None, None]\n",
            "[None, None, None, None, False, None, None, None, None, None, None, None, None, None, None, None, None, None, None, None, None, None, 'домофон', None, None]\n",
            "[None, None, None, None, False, None, None, None, None, None, None, None, None, None, None, None, None, None, None, None, None, None, 'домофон, рядом есть парковка', None, None]\n",
            "[None, None, None, None, False, None, None, None, None, None, None, None, None, None, None, None, None, None, None, None, None, None, 'домофон, видеодомофон, рядом есть парковка', None, None]\n",
            "[None, None, None, None, False, None, None, None, None, None, None, None, None, None, None, 'лоджия', None, None, 'рядом охраняемая стоянка', 'полностью', None, None, None, None, None]\n",
            "[None, None, None, None, False, None, None, None, None, None, None, None, None, None, None, None, None, None, None, None, None, None, 'домофон, паркинг, рядом есть парковка', None, None]\n",
            "[None, None, None, None, False, None, None, None, None, None, None, None, None, None, None, None, None, None, None, None, None, None, 'рядом есть парковка, паркинг, электронные замки, видеодомофон, домофон', None, None]\n",
            "[None, None, None, None, False, None, None, None, None, None, None, None, None, None, None, None, None, None, None, None, None, None, 'домофон, рядом есть парковка', None, None]\n",
            "[None, None, None, None, False, None, None, None, None, None, None, None, None, None, None, None, None, None, None, None, None, None, None, None, None]\n",
            "[None, None, None, None, False, None, None, None, None, None, None, None, None, None, None, None, None, None, None, None, None, None, 'домофон', None, None]\n",
            "[None, None, None, None, False, None, None, None, None, None, None, None, None, None, None, None, None, None, None, None, None, None, 'домофон, рядом есть парковка, видеодомофон, электронные замки', None, None]\n",
            "[None, None, None, None, False, None, None, None, None, None, None, None, None, None, None, None, None, None, None, None, None, None, 'домофон, рядом есть парковка', None, None]\n",
            "[None, None, None, None, False, None, None, None, None, None, None, None, None, None, 'совмещенный', None, None, None, 'рядом охраняемая стоянка', 'полностью', None, None, None, None, None]\n"
          ]
        }
      ]
    }
  ]
}